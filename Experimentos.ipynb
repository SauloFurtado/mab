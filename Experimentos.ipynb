{
 "cells": [
  {
   "cell_type": "markdown",
   "metadata": {},
   "source": [
    "## <b>Experimentação</b>"
   ]
  },
  {
   "cell_type": "markdown",
   "metadata": {},
   "source": [
    "<div style=\"text-align:justify\">\n",
    "Este notebook traz boas práticas, cuidados e métodos para desenho e realização de experimentos. Estas informações são abrangentes e podem ser aplicadas a qualquer tipo de experimento, incluindo experimentos em produtos digitais.\n",
    "<br/><br/>\n",
    "<code><i>Um experimento é um procedimento planejado para obter novos fatos, negar ou confirmar hipóteses ou resultados obtidos anteriormente</i></code>. O método experimental consiste em modificar uma variável e averiguar os efeitos em uma segunda variável, dita <code>variável dependente</code>. Uma <code>variável dependente</code> é qualquer coisa que possa sofrer algum tipo de efeito em função de outra variável, dita <code>variável independente</code>.\n",
    "<br/><br/>\n",
    "Ex: <code><i>Você mexe no preço (variável independente) de um produto e os efeitos poderão ser observados no volume de vendas e na margem de lucro desse produto (variáveis dependentes)</i></code>.\n",
    "</div>"
   ]
  },
  {
   "cell_type": "markdown",
   "metadata": {},
   "source": [
    "Organização do conteúdo:\n",
    "\n",
    "- Conceitos\n",
    "- Erro experimental\n",
    "- Etapas do planejamento\n",
    "- Teste A|B convencional\n",
    "- Teste A|B alternativos"
   ]
  },
  {
   "cell_type": "markdown",
   "metadata": {},
   "source": [
    "### <b>Conceitos</b>:"
   ]
  },
  {
   "cell_type": "markdown",
   "metadata": {},
   "source": [
    "> #### Tratamento (<i>Variável Independente</i>)\n",
    "<br/>\n",
    "> <div style=\"text-align:justify\">\n",
    "Um tratamento é uma condição imposta a um elemento que se deseja medir ou avaliar em um experimento, para causar o efeito esperado.\n",
    "<br/><br/>\n",
    "Ex: <code><i>Para aumentar o número de usuários no aplicativo, <b>vamos simplificar o fluxo de onboarding</b></i></code>.\n",
    "</div>"
   ]
  },
  {
   "cell_type": "markdown",
   "metadata": {},
   "source": [
    "> #### Unidade Experimental\n",
    "<br/>\n",
    "> <div style=\"text-align:justify\">\n",
    "Onde é feita a aplicação do tratamento. É a unidade experimental que fornece os dados a serem avaliados.\n",
    "<br/><br/>\n",
    "Ex: <code><i>Para aumentar o número de <b>usuários</b> no aplicativo, vamos simplificar o fluxo de onboarding</i></code>.\n",
    "</div>"
   ]
  },
  {
   "cell_type": "markdown",
   "metadata": {},
   "source": [
    "> #### Hipótese Alternativa (<i>Variável Resposta / Dependente</i>)\n",
    "<br/>\n",
    "> <div style=\"text-align:justify\">\n",
    "Elemento sensibilizado em função do tratamento dado.\n",
    "<br/><br/>\n",
    "Ex: <code><i>Para <b>aumentar o número de usuários no aplicativo</b>, vamos simplificar o fluxo de onboarding</i></code>.\n",
    "</div>"
   ]
  },
  {
   "cell_type": "markdown",
   "metadata": {},
   "source": [
    "> #### Hipótese Nula\n",
    "<br/>\n",
    "> <div style=\"text-align:justify\">\n",
    "É o baseline a ser comparado com a <code>hipótese alternativa</code>.\n",
    "<br/><br/>\n",
    "Ex: <code><i>Fluxo atual de onboarding</i></code>.\n",
    "</div>"
   ]
  },
  {
   "cell_type": "markdown",
   "metadata": {},
   "source": [
    "### <b>Erro Experimental</b>"
   ]
  },
  {
   "cell_type": "markdown",
   "metadata": {},
   "source": [
    "<div style=\"text-align:justify\">\n",
    "Todo experimento está exposto a fatores externos que podem causar variações de um mesmo tratamento. Existem diversos métodos para mitigar o erro experimental, desde <code>aumentar o tamanho da amostra</code>, até <code>repetir o experimento</code> com o objetivo de reproduzir os resultados. Uma prática bastante comum é <i>aplicar o tratamento da hipótese nula em uma variante de teste</i>.\n",
    "<br/><br/>\n",
    "A avaliação dos resultados passa por validar estatisticamente os resultados das variantes de teste, uma contra a outra, a partir da variável resposta definida. Veja o exemplo a seguir:\n",
    "</div>"
   ]
  },
  {
   "cell_type": "markdown",
   "metadata": {},
   "source": [
    "#### Exemplo"
   ]
  },
  {
   "cell_type": "markdown",
   "metadata": {},
   "source": [
    "<div style=\"text-align:justify\">\n",
    "Você é responsável pelo aplicativo de uma grande operadora de TV por assinatura e precisa maximizar o número de usuários que utiliza o app. Para isso você vai aplicar como tratamento <i>uma simplificação no fluxo de onboarding do app</i> e vai utilizar como variável resposta o <i>número de usuários que executou pelo menos uma ação de gatilho</i> através do app. As ações de gatilho são: <code>segunda via de boleto</code> e <code>visita técnica</code>.\n",
    "<br/><br/>\n",
    "A seguir vamos criar os dados para simular a execução desse experimento:\n",
    "</div>"
   ]
  },
  {
   "cell_type": "code",
   "execution_count": 1,
   "metadata": {},
   "outputs": [
    {
     "data": {
      "text/html": [
       "<div>\n",
       "<style scoped>\n",
       "    .dataframe tbody tr th:only-of-type {\n",
       "        vertical-align: middle;\n",
       "    }\n",
       "\n",
       "    .dataframe tbody tr th {\n",
       "        vertical-align: top;\n",
       "    }\n",
       "\n",
       "    .dataframe thead th {\n",
       "        text-align: right;\n",
       "    }\n",
       "</style>\n",
       "<table border=\"1\" class=\"dataframe\">\n",
       "  <thead>\n",
       "    <tr style=\"text-align: right;\">\n",
       "      <th></th>\n",
       "      <th>dia</th>\n",
       "      <th>alternativa_a1</th>\n",
       "      <th>alternativa_a2</th>\n",
       "      <th>alternativa_b</th>\n",
       "    </tr>\n",
       "  </thead>\n",
       "  <tbody>\n",
       "    <tr>\n",
       "      <th>0</th>\n",
       "      <td>1</td>\n",
       "      <td>625</td>\n",
       "      <td>634</td>\n",
       "      <td>620</td>\n",
       "    </tr>\n",
       "    <tr>\n",
       "      <th>1</th>\n",
       "      <td>2</td>\n",
       "      <td>636</td>\n",
       "      <td>633</td>\n",
       "      <td>650</td>\n",
       "    </tr>\n",
       "    <tr>\n",
       "      <th>2</th>\n",
       "      <td>3</td>\n",
       "      <td>627</td>\n",
       "      <td>625</td>\n",
       "      <td>652</td>\n",
       "    </tr>\n",
       "    <tr>\n",
       "      <th>3</th>\n",
       "      <td>4</td>\n",
       "      <td>634</td>\n",
       "      <td>636</td>\n",
       "      <td>630</td>\n",
       "    </tr>\n",
       "    <tr>\n",
       "      <th>4</th>\n",
       "      <td>5</td>\n",
       "      <td>636</td>\n",
       "      <td>630</td>\n",
       "      <td>655</td>\n",
       "    </tr>\n",
       "    <tr>\n",
       "      <th>5</th>\n",
       "      <td>6</td>\n",
       "      <td>650</td>\n",
       "      <td>653</td>\n",
       "      <td>663</td>\n",
       "    </tr>\n",
       "    <tr>\n",
       "      <th>6</th>\n",
       "      <td>7</td>\n",
       "      <td>636</td>\n",
       "      <td>638</td>\n",
       "      <td>660</td>\n",
       "    </tr>\n",
       "    <tr>\n",
       "      <th>7</th>\n",
       "      <td>8</td>\n",
       "      <td>635</td>\n",
       "      <td>637</td>\n",
       "      <td>662</td>\n",
       "    </tr>\n",
       "    <tr>\n",
       "      <th>8</th>\n",
       "      <td>9</td>\n",
       "      <td>635</td>\n",
       "      <td>637</td>\n",
       "      <td>662</td>\n",
       "    </tr>\n",
       "    <tr>\n",
       "      <th>9</th>\n",
       "      <td>10</td>\n",
       "      <td>636</td>\n",
       "      <td>638</td>\n",
       "      <td>663</td>\n",
       "    </tr>\n",
       "  </tbody>\n",
       "</table>\n",
       "</div>"
      ],
      "text/plain": [
       "   dia  alternativa_a1  alternativa_a2  alternativa_b\n",
       "0    1             625             634            620\n",
       "1    2             636             633            650\n",
       "2    3             627             625            652\n",
       "3    4             634             636            630\n",
       "4    5             636             630            655\n",
       "5    6             650             653            663\n",
       "6    7             636             638            660\n",
       "7    8             635             637            662\n",
       "8    9             635             637            662\n",
       "9   10             636             638            663"
      ]
     },
     "execution_count": 1,
     "metadata": {},
     "output_type": "execute_result"
    }
   ],
   "source": [
    "import pandas\n",
    "from scipy import stats\n",
    "\n",
    "df = pandas.DataFrame(data = {\n",
    "    'dia': [1, 2, 3, 4, 5, 6, 7, 8, 9, 10],\n",
    "    'alternativa_a1': [625, 636, 627, 634, 636, 650, 636, 635, 635, 636],\n",
    "    'alternativa_a2': [634, 633, 625, 636, 630, 653, 638, 637, 637, 638],\n",
    "    'alternativa_b': [620, 650, 652, 630, 655, 663, 660, 662, 662, 663]\n",
    "})\n",
    "\n",
    "df.head(10)"
   ]
  },
  {
   "cell_type": "markdown",
   "metadata": {},
   "source": [
    "Para esse experimento, assumimos o seguinte planejamento:\n",
    "\n",
    "- 1000 usuários distintos em cada variante do experimento (3000 usuários ao todo).\n",
    "- Colocamos duas variantes de teste com o tratamento da hipótese nula (a1 e a2).\n",
    "- Vamos validar apenas um tratamento de hipótese alternativa (b).\n",
    "- O experimento foi executado por 10 dias."
   ]
  },
  {
   "cell_type": "markdown",
   "metadata": {},
   "source": [
    "#### Critério de Parada"
   ]
  },
  {
   "cell_type": "markdown",
   "metadata": {},
   "source": [
    "<div style=\"text-align:justify\">\n",
    "O critério de parada de um experimento depende de sua estabilidade. Idealmente, devemos observar pelo menos cinco pontos consecutivos de estabilidade para assumir que um experimento foi concluído.\n",
    "</div>"
   ]
  },
  {
   "cell_type": "code",
   "execution_count": 86,
   "metadata": {},
   "outputs": [
    {
     "data": {
      "text/plain": [
       "<AxesSubplot:>"
      ]
     },
     "execution_count": 86,
     "metadata": {},
     "output_type": "execute_result"
    },
    {
     "data": {
      "image/png": "[encoded data removed]",
      "text/plain": [
       "<Figure size 1080x504 with 1 Axes>"
      ]
     },
     "metadata": {
      "needs_background": "light"
     },
     "output_type": "display_data"
    }
   ],
   "source": [
    "from matplotlib import pyplot\n",
    "pyplot.rcParams['figure.figsize'] = (15, 7)\n",
    "\n",
    "df.drop(['dia'], axis=1).plot.line()"
   ]
  },
  {
   "cell_type": "markdown",
   "metadata": {},
   "source": [
    "#### Variável Resposta"
   ]
  },
  {
   "cell_type": "code",
   "execution_count": 87,
   "metadata": {},
   "outputs": [
    {
     "data": {
      "text/plain": [
       "'Alternativa A1: 6350 - Alternativa A2: 6361 - Alternativa B: 6517'"
      ]
     },
     "execution_count": 87,
     "metadata": {},
     "output_type": "execute_result"
    }
   ],
   "source": [
    "a = df.alternativa_a1\n",
    "a2= df.alternativa_a2\n",
    "b = df.alternativa_b\n",
    "\n",
    "u'Alternativa A1: {} - Alternativa A2: {} - Alternativa B: {}'.format(a.sum(), a2.sum(), b.sum())"
   ]
  },
  {
   "cell_type": "markdown",
   "metadata": {},
   "source": [
    "#### Hipótese Nula vs Hipótese Nula"
   ]
  },
  {
   "cell_type": "markdown",
   "metadata": {},
   "source": [
    "<div style=\"text-align:justify\">\n",
    "Observando o <i>p-Value</i> do teste de hipótese entre as alternativas a1 e a2, notamos que não produziu uma significância estatística relavante (p-Value > 0.05). Isso era de esperar, pois as alternativas a1 e a2 aplicam o mesmo tratamento.\n",
    "<br/><br/>\n",
    "Se o teste de hipótese entre estas alternativas apresentasse significância estatística, estaríamos lidando com um erro experimental. Neste caso, deveríamos repetir o experimento com uma amostra maior de usuários.\n",
    "</div>"
   ]
  },
  {
   "cell_type": "code",
   "execution_count": 88,
   "metadata": {},
   "outputs": [
    {
     "data": {
      "text/plain": [
       "'p-Value: 0.72653'"
      ]
     },
     "execution_count": 88,
     "metadata": {},
     "output_type": "execute_result"
    }
   ],
   "source": [
    "'p-Value: %.5f' % (stats.ttest_ind(a, a2)[1])"
   ]
  },
  {
   "cell_type": "markdown",
   "metadata": {},
   "source": [
    "#### Hipótese Nula vs Hipótese Alternativa"
   ]
  },
  {
   "cell_type": "markdown",
   "metadata": {},
   "source": [
    "<div style=\"text-align:justify\">\n",
    "Observando o <i>p-Value</i> do teste de hipótese entre as alternativas a1 e b, notamos que produziu uma significância estatística relavante (p-Value < 0.05). Isso significa que o tratamento dado produziu algum resultado na variável resposta.\n",
    "<br/><br/>\n",
    "Se observarmos a variável resposta de cada alternativa, veremos que a Alternativa B atingiu o objetivo em 167 unidades experimentais a mais, indicando que o tratamento dado foi efetivo.\n",
    "</div>"
   ]
  },
  {
   "cell_type": "code",
   "execution_count": 89,
   "metadata": {},
   "outputs": [
    {
     "data": {
      "text/plain": [
       "'p-Value: 0.00474'"
      ]
     },
     "execution_count": 89,
     "metadata": {},
     "output_type": "execute_result"
    }
   ],
   "source": [
    "'p-Value: %.5f' % (stats.ttest_ind(a, b)[1])"
   ]
  },
  {
   "cell_type": "markdown",
   "metadata": {},
   "source": [
    "### <b>Etapas do Planejamento</b>"
   ]
  },
  {
   "cell_type": "markdown",
   "metadata": {},
   "source": [
    "- Conhecer o problema\n",
    "- Escolher a variável resposta\n",
    "- Escolher os fatores e níveis\n",
    "- Desenhar o experimento (repetições / amostra, tratamentos, etc)\n",
    "- Condução (monitoramento de fatores externos que possam afetar seus resultados)\n",
    "- Análise de dados e aprendizados\n",
    "- Conclusões e recomendações (um experimento é o meio para algo, não o fim)"
   ]
  },
  {
   "cell_type": "markdown",
   "metadata": {},
   "source": [
    "### <b>Teste A|B - Convencional</b>"
   ]
  },
  {
   "cell_type": "markdown",
   "metadata": {},
   "source": [
    "- Amostragem aleatória\n",
    "- Separação em hipótese nula e variantes com novos tratamentos\n",
    "- Variável resposta binomial\n",
    "- Avaliação do experimento por p-Value e intervalo de confiança"
   ]
  },
  {
   "cell_type": "markdown",
   "metadata": {},
   "source": [
    "#### Google Firebase - Serviço"
   ]
  },
  {
   "cell_type": "markdown",
   "metadata": {},
   "source": [
    "Imagem 1"
   ]
  },
  {
   "cell_type": "markdown",
   "metadata": {},
   "source": [
    "<img src=\"images/img_01.png\" />"
   ]
  },
  {
   "cell_type": "markdown",
   "metadata": {},
   "source": [
    "#### Google Firebase - Identificação"
   ]
  },
  {
   "cell_type": "markdown",
   "metadata": {},
   "source": [
    "Imagem 2"
   ]
  },
  {
   "cell_type": "markdown",
   "metadata": {},
   "source": [
    "<img src=\"images/img_02.png\" />"
   ]
  },
  {
   "cell_type": "markdown",
   "metadata": {},
   "source": [
    "#### Google Firebase - Desenho"
   ]
  },
  {
   "cell_type": "markdown",
   "metadata": {},
   "source": [
    "Imagem 3"
   ]
  },
  {
   "cell_type": "markdown",
   "metadata": {},
   "source": [
    "<img src=\"images/img_03.png\" />"
   ]
  },
  {
   "cell_type": "markdown",
   "metadata": {},
   "source": [
    "#### Google Firebase - Variável Resposta"
   ]
  },
  {
   "cell_type": "markdown",
   "metadata": {},
   "source": [
    "Imagem 4"
   ]
  },
  {
   "cell_type": "markdown",
   "metadata": {},
   "source": [
    "<img src=\"images/img_04.png\" />"
   ]
  },
  {
   "cell_type": "markdown",
   "metadata": {},
   "source": [
    "#### Google Firebase - Variantes de Teste"
   ]
  },
  {
   "cell_type": "markdown",
   "metadata": {},
   "source": [
    "Imagem 5"
   ]
  },
  {
   "cell_type": "markdown",
   "metadata": {},
   "source": [
    "<img src=\"images/img_05.png\" />"
   ]
  },
  {
   "cell_type": "markdown",
   "metadata": {},
   "source": [
    "### <b>Teste A|B - Alternativas</b>"
   ]
  },
  {
   "cell_type": "markdown",
   "metadata": {},
   "source": [
    "- <a href=\"http://blog.analytics-toolkit.com/2017/statistical-significance-non-binomial-metrics-revenue-time-site-pages-session-aov-rpu/\">Métricas não binomiais</a>\n",
    "- <a href=\"https://reflectivedata.com/comprehensive-guide-to-statistics-in-a-b-testing/\">Métodos Bayesianos</a>\n",
    "- <a href=\"https://sease.io/2020/05/online-testing-for-learning-to-rank-interleaving.html\">Interleaving</a>\n",
    "- <a href=\"https://math.montana.edu/jobo/st541/sec3c.pdf\">Latin Square</a>\n",
    "- <a href=\"https://www.codemotion.com/magazine/dev-hub/designer-cxo/multi-armed-bandits-a-better-way-to-a-b-test/\">Multi-armed bandits</a>"
   ]
  },
  {
   "cell_type": "markdown",
   "metadata": {},
   "source": []
  }
 ],
 "metadata": {
  "kernelspec": {
   "display_name": "Python 3",
   "language": "python",
   "name": "python3"
  },
  "language_info": {
   "codemirror_mode": {
    "name": "ipython",
    "version": 3
   },
   "file_extension": ".py",
   "mimetype": "text/x-python",
   "name": "python",
   "nbconvert_exporter": "python",
   "pygments_lexer": "ipython3",
   "version": "3.8.5"
  }
 },
 "nbformat": 4,
 "nbformat_minor": 4
}
